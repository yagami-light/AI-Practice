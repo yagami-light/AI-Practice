{
  "nbformat": 4,
  "nbformat_minor": 0,
  "metadata": {
    "colab": {
      "name": "Use java in Google Collab.ipynb",
      "version": "0.3.2",
      "provenance": [],
      "include_colab_link": true
    },
    "kernelspec": {
      "name": "python3",
      "display_name": "Python 3"
    }
  },
  "cells": [
    {
      "cell_type": "markdown",
      "metadata": {
        "id": "view-in-github",
        "colab_type": "text"
      },
      "source": [
        "[View in Colaboratory](https://colab.research.google.com/github/yagami-light/AI-Practice/blob/master/Use_java_in_Google_Collab.ipynb)"
      ]
    },
    {
      "metadata": {
        "id": "NXH1mrg5VLnJ",
        "colab_type": "code",
        "colab": {}
      },
      "cell_type": "code",
      "source": [
        "import os       #importing os to set environment variable\n",
        "def install_java():\n",
        "  !apt-get install -y openjdk-8-jdk-headless -qq > /dev/null      #install openjdk\n",
        "  os.environ[\"JAVA_HOME\"] = \"/usr/lib/jvm/java-8-openjdk-amd64\"     #set environment variable\n",
        "  !java -version       #check java version"
      ],
      "execution_count": 0,
      "outputs": []
    },
    {
      "metadata": {
        "id": "M8zZRDZxVeDa",
        "colab_type": "code",
        "colab": {
          "base_uri": "https://localhost:8080/",
          "height": 68
        },
        "outputId": "f6369abc-170b-4eb5-a3de-5f393b24452f"
      },
      "cell_type": "code",
      "source": [
        "install_java()\n"
      ],
      "execution_count": 2,
      "outputs": [
        {
          "output_type": "stream",
          "text": [
            "openjdk version \"1.8.0_171\"\n",
            "OpenJDK Runtime Environment (build 1.8.0_171-8u171-b11-0ubuntu0.17.10.1-b11)\n",
            "OpenJDK 64-Bit Server VM (build 25.171-b11, mixed mode)\n"
          ],
          "name": "stdout"
        }
      ]
    },
    {
      "metadata": {
        "id": "HTinxC7sWDN5",
        "colab_type": "code",
        "colab": {
          "base_uri": "https://localhost:8080/",
          "height": 935
        },
        "outputId": "be7f741c-2ffe-40c4-ba68-86ba2318fdca"
      },
      "cell_type": "code",
      "source": [
        "!java"
      ],
      "execution_count": 3,
      "outputs": [
        {
          "output_type": "stream",
          "text": [
            "Usage: java [-options] class [args...]\n",
            "           (to execute a class)\n",
            "   or  java [-options] -jar jarfile [args...]\n",
            "           (to execute a jar file)\n",
            "where options include:\n",
            "    -d32\t  use a 32-bit data model if available\n",
            "    -d64\t  use a 64-bit data model if available\n",
            "    -server\t  to select the \"server\" VM\n",
            "    -zero\t  to select the \"zero\" VM\n",
            "    -dcevm\t  to select the \"dcevm\" VM\n",
            "                  The default VM is server,\n",
            "                  because you are running on a server-class machine.\n",
            "\n",
            "\n",
            "    -cp <class search path of directories and zip/jar files>\n",
            "    -classpath <class search path of directories and zip/jar files>\n",
            "                  A : separated list of directories, JAR archives,\n",
            "                  and ZIP archives to search for class files.\n",
            "    -D<name>=<value>\n",
            "                  set a system property\n",
            "    -verbose:[class|gc|jni]\n",
            "                  enable verbose output\n",
            "    -version      print product version and exit\n",
            "    -version:<value>\n",
            "                  Warning: this feature is deprecated and will be removed\n",
            "                  in a future release.\n",
            "                  require the specified version to run\n",
            "    -showversion  print product version and continue\n",
            "    -jre-restrict-search | -no-jre-restrict-search\n",
            "                  Warning: this feature is deprecated and will be removed\n",
            "                  in a future release.\n",
            "                  include/exclude user private JREs in the version search\n",
            "    -? -help      print this help message\n",
            "    -X            print help on non-standard options\n",
            "    -ea[:<packagename>...|:<classname>]\n",
            "    -enableassertions[:<packagename>...|:<classname>]\n",
            "                  enable assertions with specified granularity\n",
            "    -da[:<packagename>...|:<classname>]\n",
            "    -disableassertions[:<packagename>...|:<classname>]\n",
            "                  disable assertions with specified granularity\n",
            "    -esa | -enablesystemassertions\n",
            "                  enable system assertions\n",
            "    -dsa | -disablesystemassertions\n",
            "                  disable system assertions\n",
            "    -agentlib:<libname>[=<options>]\n",
            "                  load native agent library <libname>, e.g. -agentlib:hprof\n",
            "                  see also, -agentlib:jdwp=help and -agentlib:hprof=help\n",
            "    -agentpath:<pathname>[=<options>]\n",
            "                  load native agent library by full pathname\n",
            "    -javaagent:<jarpath>[=<options>]\n",
            "                  load Java programming language agent, see java.lang.instrument\n",
            "    -splash:<imagepath>\n",
            "                  show splash screen with specified image\n",
            "See http://www.oracle.com/technetwork/java/javase/documentation/index.html for more details.\n"
          ],
          "name": "stdout"
        }
      ]
    }
  ]
}