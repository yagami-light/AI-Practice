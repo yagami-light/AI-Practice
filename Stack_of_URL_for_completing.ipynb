{
  "nbformat": 4,
  "nbformat_minor": 0,
  "metadata": {
    "colab": {
      "name": "Stack of URL for completing.ipynb",
      "version": "0.3.2",
      "provenance": [],
      "include_colab_link": true
    },
    "kernelspec": {
      "name": "python3",
      "display_name": "Python 3"
    }
  },
  "cells": [
    {
      "cell_type": "markdown",
      "metadata": {
        "id": "view-in-github",
        "colab_type": "text"
      },
      "source": [
        "[View in Colaboratory](https://colab.research.google.com/github/yagami-light/AI-Practice/blob/master/Stack_of_URL_for_completing.ipynb)"
      ]
    },
    {
      "metadata": {
        "id": "CF0nbpTjG7Eu",
        "colab_type": "code",
        "colab": {}
      },
      "cell_type": "code",
      "source": [
        ""
      ],
      "execution_count": 0,
      "outputs": []
    },
    {
      "metadata": {
        "id": "6zmVRjvwHDUq",
        "colab_type": "text"
      },
      "cell_type": "markdown",
      "source": [
        "https://www.kdnuggets.com/2018/09/essential-math-data-science.html"
      ]
    },
    {
      "metadata": {
        "id": "ooRUDR1FHEVc",
        "colab_type": "text"
      },
      "cell_type": "markdown",
      "source": [
        "https://www.kdnuggets.com/2018/09/journey-machine-learning-100-days.html"
      ]
    },
    {
      "metadata": {
        "id": "1QAoiXu9HL9X",
        "colab_type": "text"
      },
      "cell_type": "markdown",
      "source": [
        "https://github.com/Avik-Jain/100-Days-Of-ML-Code"
      ]
    },
    {
      "metadata": {
        "id": "l8Cfq9fJHUOd",
        "colab_type": "text"
      },
      "cell_type": "markdown",
      "source": [
        ""
      ]
    }
  ]
}